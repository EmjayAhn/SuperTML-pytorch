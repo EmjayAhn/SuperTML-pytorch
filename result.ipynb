{
 "cells": [
  {
   "attachments": {},
   "cell_type": "markdown",
   "metadata": {},
   "source": [
    "# Super TML\n",
    "---\n",
    "Pytorch Implementation [Super TML: Two-Dimensional Word Embedding for the Precognition on Structured Tabular Data](https://arxiv.org/abs/1903.06246) with iris data.\n",
    "I was very interested in its core idea which is tabular data can be embedded to 2 dimension-matrix. I just wondered \"IT IS WORK REALLY??\" so let me check, let's code!\n",
    "![image.png](./paper.png)"
   ]
  },
  {
   "cell_type": "markdown",
   "metadata": {},
   "source": [
    "## Imports & Settings"
   ]
  },
  {
   "cell_type": "code",
   "execution_count": 1,
   "metadata": {
    "scrolled": true
   },
   "outputs": [],
   "source": [
    "import warnings\n",
    "import numpy as np\n",
    "import matplotlib.pyplot as plt\n",
    "\n",
    "from sklearn.model_selection import train_test_split\n",
    "from sklearn.datasets import load_iris\n",
    "\n",
    "import torch\n",
    "import torch.nn as nn\n",
    "import torch.optim as optim\n",
    "from torch.utils.data import DataLoader, TensorDataset\n",
    "\n",
    "from data_preparation import data_to_image\n",
    "from model import model_res\n",
    "from train import train_model\n",
    "\n",
    "torch.backends.cudnn.enabled = False\n",
    "device = torch.device('cuda' if torch.cuda.is_available() else 'cpu')\n",
    "\n",
    "%load_ext autoreload\n",
    "%autoreload 2\n",
    "%matplotlib inline\n",
    "warnings.filterwarnings(\"ignore\")\n",
    "%config InlineBackend.figure_format = 'retina'"
   ]
  },
  {
   "cell_type": "markdown",
   "metadata": {},
   "source": [
    "## Data Preparation"
   ]
  },
  {
   "cell_type": "code",
   "execution_count": 2,
   "metadata": {
    "scrolled": true
   },
   "outputs": [
    {
     "name": "stdout",
     "output_type": "stream",
     "text": [
      "(120, 3, 255, 255)\n",
      "(30, 3, 255, 255)\n"
     ]
    },
    {
     "data": {
      "text/plain": [
       "<matplotlib.image.AxesImage at 0x7fd962c6dbe0>"
      ]
     },
     "execution_count": 2,
     "metadata": {},
     "output_type": "execute_result"
    },
    {
     "data": {
      "image/png": "[encoded data removed]",
      "text/plain": [
       "<Figure size 432x288 with 1 Axes>"
      ]
     },
     "metadata": {
      "image/png": {
       "height": 251,
       "width": 263
      },
      "needs_background": "light"
     },
     "output_type": "display_data"
    }
   ],
   "source": [
    "iris_data = load_iris()\n",
    "\n",
    "X_train, X_val, y_train, y_val = train_test_split(iris_data.data, iris_data.target, stratify=iris_data.target, test_size=0.2, random_state=0)\n",
    "\n",
    "train_images = data_to_image(X_train)\n",
    "val_images = data_to_image(X_val)\n",
    "\n",
    "print(train_images.shape)\n",
    "print(val_images.shape)\n",
    "plt.grid()\n",
    "plt.imshow(train_images[0][0, :, :])"
   ]
  },
  {
   "cell_type": "code",
   "execution_count": 3,
   "metadata": {},
   "outputs": [],
   "source": [
    "X_train = torch.from_numpy(train_images).float()\n",
    "y_train = torch.from_numpy(y_train).long()\n",
    "X_val = torch.from_numpy(val_images).float()\n",
    "y_val = torch.from_numpy(y_val).long()\n",
    "\n",
    "train_dataset = TensorDataset(X_train, y_train)\n",
    "val_dataset = TensorDataset(X_val, y_val)\n",
    "\n",
    "dataloaders = {'train': DataLoader(train_dataset, batch_size=16, shuffle=True),\n",
    "              'val': DataLoader(val_dataset)}\n",
    "\n",
    "dataset_sizes = {'train': len(X_train),\n",
    "                'val': len(X_val)}"
   ]
  },
  {
   "cell_type": "markdown",
   "metadata": {},
   "source": [
    "## Modeling\n",
    "- Transfer Learning from Resnet\n",
    "- I changed just fully connect layer at the end to 3 outputs"
   ]
  },
  {
   "cell_type": "code",
   "execution_count": 4,
   "metadata": {},
   "outputs": [],
   "source": [
    "model = model_res.to(device)\n",
    "\n",
    "criterion = nn.CrossEntropyLoss()\n",
    "optimizer = optim.Adam(model.parameters())\n"
   ]
  },
  {
   "cell_type": "markdown",
   "metadata": {},
   "source": [
    "> Actually IT WORKS!!"
   ]
  },
  {
   "cell_type": "code",
   "execution_count": 5,
   "metadata": {},
   "outputs": [
    {
     "name": "stdout",
     "output_type": "stream",
     "text": [
      "EPOCH 1 / 20: \n",
      "----------\n",
      "val Loss: 5.3997 Acc:  0.3333\n",
      "EPOCH 2 / 20: \n",
      "----------\n",
      "val Loss: 0.6481 Acc:  0.8333\n",
      "EPOCH 3 / 20: \n",
      "----------\n",
      "val Loss: 0.9328 Acc:  0.7667\n",
      "EPOCH 4 / 20: \n",
      "----------\n",
      "val Loss: 0.3546 Acc:  0.9333\n",
      "EPOCH 5 / 20: \n",
      "----------\n",
      "val Loss: 0.4566 Acc:  0.9333\n",
      "EPOCH 6 / 20: \n",
      "----------\n",
      "val Loss: 0.2912 Acc:  0.8667\n",
      "EPOCH 7 / 20: \n",
      "----------\n",
      "val Loss: 0.2331 Acc:  0.9333\n",
      "EPOCH 8 / 20: \n",
      "----------\n",
      "val Loss: 0.4565 Acc:  0.9333\n",
      "EPOCH 9 / 20: \n",
      "----------\n",
      "val Loss: 0.3249 Acc:  0.9667\n",
      "EPOCH 10 / 20: \n",
      "----------\n",
      "val Loss: 0.4116 Acc:  0.9000\n",
      "EPOCH 11 / 20: \n",
      "----------\n",
      "val Loss: 0.3704 Acc:  0.9333\n",
      "EPOCH 12 / 20: \n",
      "----------\n",
      "val Loss: 0.3225 Acc:  0.9333\n",
      "EPOCH 13 / 20: \n",
      "----------\n",
      "val Loss: 0.6221 Acc:  0.9333\n",
      "EPOCH 14 / 20: \n",
      "----------\n",
      "val Loss: 0.8669 Acc:  0.8667\n",
      "EPOCH 15 / 20: \n",
      "----------\n",
      "val Loss: 0.3086 Acc:  0.9333\n",
      "EPOCH 16 / 20: \n",
      "----------\n",
      "val Loss: 0.3501 Acc:  0.9333\n",
      "EPOCH 17 / 20: \n",
      "----------\n",
      "val Loss: 0.1983 Acc:  0.9333\n",
      "EPOCH 18 / 20: \n",
      "----------\n",
      "val Loss: 0.1258 Acc:  0.9667\n",
      "EPOCH 19 / 20: \n",
      "----------\n",
      "val Loss: 4.1496 Acc:  0.4000\n",
      "EPOCH 20 / 20: \n",
      "----------\n",
      "val Loss: 2.8034 Acc:  0.5667\n",
      "Training COMPLETED: 0m 27s\n",
      "BEST VALIDATION ACCURACY: 0.966667\n"
     ]
    }
   ],
   "source": [
    "best_model = train_model(model, dataloaders, dataset_sizes, criterion, optimizer, device, epochs=20)"
   ]
  },
  {
   "attachments": {},
   "cell_type": "markdown",
   "metadata": {},
   "source": [
    "## Further Experiments\n",
    "One of my study group members was curious if the performance could be affected by the columns' positions. Let's check! I will change its position like below left to right and the other conditions are all same.\n",
    "\n",
    "![compare.png](./compare.png)\n",
    "\n",
    "result: Their Location doesn't matter with model performance"
   ]
  },
  {
   "cell_type": "code",
   "execution_count": 6,
   "metadata": {},
   "outputs": [
    {
     "name": "stdout",
     "output_type": "stream",
     "text": [
      "(120, 3, 255, 255)\n",
      "(30, 3, 255, 255)\n"
     ]
    },
    {
     "data": {
      "text/plain": [
       "<matplotlib.image.AxesImage at 0x7fd9e0861f60>"
      ]
     },
     "execution_count": 6,
     "metadata": {},
     "output_type": "execute_result"
    },
    {
     "data": {
      "image/png": "[encoded data removed]",
      "text/plain": [
       "<Figure size 432x288 with 1 Axes>"
      ]
     },
     "metadata": {
      "image/png": {
       "height": 251,
       "width": 263
      },
      "needs_background": "light"
     },
     "output_type": "display_data"
    }
   ],
   "source": [
    "from data_preparation import data_to_image_another\n",
    "\n",
    "iris_data = load_iris()\n",
    "\n",
    "X_train, X_val, y_train, y_val = train_test_split(iris_data.data, iris_data.target, stratify=iris_data.target, test_size=0.2, random_state=0)\n",
    "\n",
    "train_images = data_to_image_another(X_train)\n",
    "val_images = data_to_image_another(X_val)\n",
    "\n",
    "print(train_images.shape)\n",
    "print(val_images.shape)\n",
    "plt.grid()\n",
    "plt.imshow(train_images[0][0, :, :])"
   ]
  },
  {
   "cell_type": "code",
   "execution_count": 7,
   "metadata": {},
   "outputs": [
    {
     "name": "stdout",
     "output_type": "stream",
     "text": [
      "EPOCH 1 / 20: \n",
      "----------\n",
      "val Loss: 4.3803 Acc:  0.6667\n",
      "EPOCH 2 / 20: \n",
      "----------\n",
      "val Loss: 49.4471 Acc:  0.3333\n",
      "EPOCH 3 / 20: \n",
      "----------\n",
      "val Loss: 1.4664 Acc:  0.7000\n",
      "EPOCH 4 / 20: \n",
      "----------\n",
      "val Loss: 0.7917 Acc:  0.8667\n",
      "EPOCH 5 / 20: \n",
      "----------\n",
      "val Loss: 1.6323 Acc:  0.8333\n",
      "EPOCH 6 / 20: \n",
      "----------\n",
      "val Loss: 1.8395 Acc:  0.6667\n",
      "EPOCH 7 / 20: \n",
      "----------\n",
      "val Loss: 0.4488 Acc:  0.9333\n",
      "EPOCH 8 / 20: \n",
      "----------\n",
      "val Loss: 0.2794 Acc:  0.9333\n",
      "EPOCH 9 / 20: \n",
      "----------\n",
      "val Loss: 0.1849 Acc:  0.9667\n",
      "EPOCH 10 / 20: \n",
      "----------\n",
      "val Loss: 0.1331 Acc:  0.9667\n",
      "EPOCH 11 / 20: \n",
      "----------\n",
      "val Loss: 0.1345 Acc:  0.9667\n",
      "EPOCH 12 / 20: \n",
      "----------\n",
      "val Loss: 0.3936 Acc:  0.9333\n",
      "EPOCH 13 / 20: \n",
      "----------\n",
      "val Loss: 0.1830 Acc:  0.9333\n",
      "EPOCH 14 / 20: \n",
      "----------\n",
      "val Loss: 0.1597 Acc:  0.9667\n",
      "EPOCH 15 / 20: \n",
      "----------\n",
      "val Loss: 0.1071 Acc:  0.9667\n",
      "EPOCH 16 / 20: \n",
      "----------\n",
      "val Loss: 0.3240 Acc:  0.8667\n",
      "EPOCH 17 / 20: \n",
      "----------\n",
      "val Loss: 0.2489 Acc:  0.9333\n",
      "EPOCH 18 / 20: \n",
      "----------\n",
      "val Loss: 0.2280 Acc:  0.9333\n",
      "EPOCH 19 / 20: \n",
      "----------\n",
      "val Loss: 0.2546 Acc:  0.9667\n",
      "EPOCH 20 / 20: \n",
      "----------\n",
      "val Loss: 0.2007 Acc:  0.9667\n",
      "Training COMPLETED: 0m 27s\n",
      "BEST VALIDATION ACCURACY: 0.966667\n"
     ]
    }
   ],
   "source": [
    "X_train = torch.from_numpy(train_images).float()\n",
    "y_train = torch.from_numpy(y_train).long()\n",
    "X_val = torch.from_numpy(val_images).float()\n",
    "y_val = torch.from_numpy(y_val).long()\n",
    "\n",
    "train_dataset = TensorDataset(X_train, y_train)\n",
    "val_dataset = TensorDataset(X_val, y_val)\n",
    "\n",
    "dataloaders = {'train': DataLoader(train_dataset, batch_size=16, shuffle=True),\n",
    "              'val': DataLoader(val_dataset)}\n",
    "\n",
    "dataset_sizes = {'train': len(X_train),\n",
    "                'val': len(X_val)}\n",
    "\n",
    "model_another = model_res.to(device)\n",
    "\n",
    "criterion = nn.CrossEntropyLoss()\n",
    "optimizer = optim.Adam(model_another.parameters())\n",
    "\n",
    "best_model = train_model(model_another, dataloaders, dataset_sizes, criterion, optimizer, device, epochs=20)"
   ]
  },
  {
   "cell_type": "markdown",
   "metadata": {},
   "source": [
    "---\n",
    "I just coded for fun and curiosity, but this simple implementation gives very new insights of relation between tabular data and embeddings."
   ]
  }
 ],
 "metadata": {
  "kernelspec": {
   "display_name": "Python 3",
   "language": "python",
   "name": "python3"
  },
  "language_info": {
   "codemirror_mode": {
    "name": "ipython",
    "version": 3
   },
   "file_extension": ".py",
   "mimetype": "text/x-python",
   "name": "python",
   "nbconvert_exporter": "python",
   "pygments_lexer": "ipython3",
   "version": "3.6.0"
  }
 },
 "nbformat": 4,
 "nbformat_minor": 4
}
